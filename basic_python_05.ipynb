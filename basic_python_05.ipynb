{
 "cells": [
  {
   "cell_type": "markdown",
   "id": "c64648b3",
   "metadata": {},
   "source": [
    "### Tuples"
   ]
  },
  {
   "cell_type": "markdown",
   "id": "111eeeb5",
   "metadata": {},
   "source": [
    "#### Creating Tuples"
   ]
  },
  {
   "cell_type": "code",
   "execution_count": 25,
   "id": "2b34333f",
   "metadata": {},
   "outputs": [],
   "source": [
    "t1 = (\"Karachi\", \"Lahore\", \"Okara\")\n",
    "t2 = (3,4,7)\n",
    "t3 = tuple((\"Karachi\", \"Islamabad\", \"Pakpattan\"))\n",
    "t4 = tuple([\"Karachi\", \"Islamabad\", \"Pakpattan\", 4, 6, 8])"
   ]
  },
  {
   "cell_type": "code",
   "execution_count": 26,
   "id": "1b30eabf",
   "metadata": {},
   "outputs": [
    {
     "data": {
      "text/plain": [
       "('Karachi', 'Lahore', 'Okara')"
      ]
     },
     "execution_count": 26,
     "metadata": {},
     "output_type": "execute_result"
    }
   ],
   "source": [
    "t1 "
   ]
  },
  {
   "cell_type": "code",
   "execution_count": 27,
   "id": "42686490",
   "metadata": {},
   "outputs": [
    {
     "data": {
      "text/plain": [
       "(3, 4, 7)"
      ]
     },
     "execution_count": 27,
     "metadata": {},
     "output_type": "execute_result"
    }
   ],
   "source": [
    "t2"
   ]
  },
  {
   "cell_type": "code",
   "execution_count": 28,
   "id": "eea85c75",
   "metadata": {},
   "outputs": [
    {
     "data": {
      "text/plain": [
       "('Karachi', 'Islamabad', 'Pakpattan')"
      ]
     },
     "execution_count": 28,
     "metadata": {},
     "output_type": "execute_result"
    }
   ],
   "source": [
    "t3"
   ]
  },
  {
   "cell_type": "code",
   "execution_count": 29,
   "id": "5c8a452d",
   "metadata": {},
   "outputs": [
    {
     "data": {
      "text/plain": [
       "('Karachi', 'Islamabad', 'Pakpattan', 4, 6, 8)"
      ]
     },
     "execution_count": 29,
     "metadata": {},
     "output_type": "execute_result"
    }
   ],
   "source": [
    "t4"
   ]
  },
  {
   "cell_type": "markdown",
   "id": "c41411a5",
   "metadata": {},
   "source": [
    "### Length of Tuple"
   ]
  },
  {
   "cell_type": "code",
   "execution_count": 30,
   "id": "0d6c84eb",
   "metadata": {},
   "outputs": [
    {
     "data": {
      "text/plain": [
       "3"
      ]
     },
     "execution_count": 30,
     "metadata": {},
     "output_type": "execute_result"
    }
   ],
   "source": [
    "len(t1)"
   ]
  },
  {
   "cell_type": "code",
   "execution_count": 31,
   "id": "6bb65c46",
   "metadata": {},
   "outputs": [
    {
     "data": {
      "text/plain": [
       "3"
      ]
     },
     "execution_count": 31,
     "metadata": {},
     "output_type": "execute_result"
    }
   ],
   "source": [
    "len(t2)"
   ]
  },
  {
   "cell_type": "code",
   "execution_count": 32,
   "id": "f2a8015c",
   "metadata": {},
   "outputs": [
    {
     "data": {
      "text/plain": [
       "3"
      ]
     },
     "execution_count": 32,
     "metadata": {},
     "output_type": "execute_result"
    }
   ],
   "source": [
    "len(t3)"
   ]
  },
  {
   "cell_type": "code",
   "execution_count": 33,
   "id": "a4543e20",
   "metadata": {},
   "outputs": [
    {
     "data": {
      "text/plain": [
       "6"
      ]
     },
     "execution_count": 33,
     "metadata": {},
     "output_type": "execute_result"
    }
   ],
   "source": [
    "len(t4)"
   ]
  },
  {
   "cell_type": "code",
   "execution_count": 34,
   "id": "1ff016e8",
   "metadata": {},
   "outputs": [
    {
     "data": {
      "text/plain": [
       "('Okara', 22, 19.98, True, [2, 3, 4], (7, 5, 3))"
      ]
     },
     "execution_count": 34,
     "metadata": {},
     "output_type": "execute_result"
    }
   ],
   "source": [
    "t5 = (\"Okara\", 22, 19.98, True, [2,3,4], (7,5,3))\n",
    "t5"
   ]
  },
  {
   "cell_type": "markdown",
   "id": "a1a36eda",
   "metadata": {},
   "source": [
    "#### Access Tuple Items"
   ]
  },
  {
   "cell_type": "code",
   "execution_count": 35,
   "id": "12b70f42",
   "metadata": {},
   "outputs": [
    {
     "data": {
      "text/plain": [
       "('Okara', 22, 19.98, True, [2, 3, 4], (7, 5, 3))"
      ]
     },
     "execution_count": 35,
     "metadata": {},
     "output_type": "execute_result"
    }
   ],
   "source": [
    "t5"
   ]
  },
  {
   "cell_type": "code",
   "execution_count": 38,
   "id": "00d2847b",
   "metadata": {},
   "outputs": [
    {
     "data": {
      "text/plain": [
       "'Okara'"
      ]
     },
     "execution_count": 38,
     "metadata": {},
     "output_type": "execute_result"
    }
   ],
   "source": [
    "t5[0]"
   ]
  },
  {
   "cell_type": "code",
   "execution_count": 39,
   "id": "2113bedd",
   "metadata": {},
   "outputs": [
    {
     "data": {
      "text/plain": [
       "19.98"
      ]
     },
     "execution_count": 39,
     "metadata": {},
     "output_type": "execute_result"
    }
   ],
   "source": [
    "t5[2]"
   ]
  },
  {
   "cell_type": "code",
   "execution_count": 40,
   "id": "00638306",
   "metadata": {},
   "outputs": [
    {
     "data": {
      "text/plain": [
       "[2, 3, 4]"
      ]
     },
     "execution_count": 40,
     "metadata": {},
     "output_type": "execute_result"
    }
   ],
   "source": [
    "t5[4]"
   ]
  },
  {
   "cell_type": "code",
   "execution_count": 41,
   "id": "b25d6a09",
   "metadata": {},
   "outputs": [
    {
     "data": {
      "text/plain": [
       "(7, 5, 3)"
      ]
     },
     "execution_count": 41,
     "metadata": {},
     "output_type": "execute_result"
    }
   ],
   "source": [
    "t5[-1]"
   ]
  },
  {
   "cell_type": "code",
   "execution_count": 42,
   "id": "b6250570",
   "metadata": {},
   "outputs": [
    {
     "data": {
      "text/plain": [
       "[2, 3, 4]"
      ]
     },
     "execution_count": 42,
     "metadata": {},
     "output_type": "execute_result"
    }
   ],
   "source": [
    "t5[-2]"
   ]
  },
  {
   "cell_type": "code",
   "execution_count": 43,
   "id": "4b8d321c",
   "metadata": {},
   "outputs": [
    {
     "data": {
      "text/plain": [
       "'Okara'"
      ]
     },
     "execution_count": 43,
     "metadata": {},
     "output_type": "execute_result"
    }
   ],
   "source": [
    "t5[-6]"
   ]
  },
  {
   "cell_type": "markdown",
   "id": "a0a7c01c",
   "metadata": {},
   "source": [
    "### Range of Index"
   ]
  },
  {
   "cell_type": "code",
   "execution_count": 44,
   "id": "e018b68d",
   "metadata": {},
   "outputs": [
    {
     "data": {
      "text/plain": [
       "('Hockey', 'Cricket', 'Football', 'Badminton', 'Wrestling', 'Squash')"
      ]
     },
     "execution_count": 44,
     "metadata": {},
     "output_type": "execute_result"
    }
   ],
   "source": [
    "t = (\"Hockey\", \"Cricket\", \"Football\", \"Badminton\", \"Wrestling\", \"Squash\")\n",
    "t"
   ]
  },
  {
   "cell_type": "code",
   "execution_count": 46,
   "id": "bff53e34",
   "metadata": {},
   "outputs": [
    {
     "data": {
      "text/plain": [
       "('Football', 'Badminton', 'Wrestling')"
      ]
     },
     "execution_count": 46,
     "metadata": {},
     "output_type": "execute_result"
    }
   ],
   "source": [
    "t[2:5]"
   ]
  },
  {
   "cell_type": "code",
   "execution_count": 47,
   "id": "c7e76512",
   "metadata": {},
   "outputs": [
    {
     "data": {
      "text/plain": [
       "('Hockey', 'Cricket', 'Football')"
      ]
     },
     "execution_count": 47,
     "metadata": {},
     "output_type": "execute_result"
    }
   ],
   "source": [
    "t[:3]"
   ]
  },
  {
   "cell_type": "code",
   "execution_count": 48,
   "id": "49b1f68b",
   "metadata": {},
   "outputs": [
    {
     "data": {
      "text/plain": [
       "('Badminton', 'Wrestling', 'Squash')"
      ]
     },
     "execution_count": 48,
     "metadata": {},
     "output_type": "execute_result"
    }
   ],
   "source": [
    "t[3:]"
   ]
  },
  {
   "cell_type": "code",
   "execution_count": 49,
   "id": "630622b7",
   "metadata": {},
   "outputs": [
    {
     "data": {
      "text/plain": [
       "('Football', 'Badminton', 'Wrestling')"
      ]
     },
     "execution_count": 49,
     "metadata": {},
     "output_type": "execute_result"
    }
   ],
   "source": [
    "t[-4:-1]"
   ]
  },
  {
   "cell_type": "markdown",
   "id": "cde295e8",
   "metadata": {},
   "source": [
    "#### Check if Item Exists"
   ]
  },
  {
   "cell_type": "code",
   "execution_count": 50,
   "id": "bb517941",
   "metadata": {},
   "outputs": [
    {
     "data": {
      "text/plain": [
       "('Hockey', 'Cricket', 'Football', 'Badminton', 'Wrestling', 'Squash')"
      ]
     },
     "execution_count": 50,
     "metadata": {},
     "output_type": "execute_result"
    }
   ],
   "source": [
    "t"
   ]
  },
  {
   "cell_type": "code",
   "execution_count": 51,
   "id": "6c08e6bd",
   "metadata": {},
   "outputs": [
    {
     "data": {
      "text/plain": [
       "False"
      ]
     },
     "execution_count": 51,
     "metadata": {},
     "output_type": "execute_result"
    }
   ],
   "source": [
    "\"GuliDanda\" in t"
   ]
  },
  {
   "cell_type": "code",
   "execution_count": 52,
   "id": "639e9280",
   "metadata": {},
   "outputs": [
    {
     "data": {
      "text/plain": [
       "True"
      ]
     },
     "execution_count": 52,
     "metadata": {},
     "output_type": "execute_result"
    }
   ],
   "source": [
    "\"Cricket\" in t"
   ]
  },
  {
   "cell_type": "markdown",
   "id": "a9fb6b26",
   "metadata": {},
   "source": [
    "#### Update tuple data"
   ]
  },
  {
   "cell_type": "code",
   "execution_count": 53,
   "id": "97e82049",
   "metadata": {},
   "outputs": [
    {
     "data": {
      "text/plain": [
       "(3, 4, 6)"
      ]
     },
     "execution_count": 53,
     "metadata": {},
     "output_type": "execute_result"
    }
   ],
   "source": [
    "t = (3,4,6)\n",
    "t"
   ]
  },
  {
   "cell_type": "code",
   "execution_count": 54,
   "id": "23ba705f",
   "metadata": {},
   "outputs": [
    {
     "data": {
      "text/plain": [
       "3"
      ]
     },
     "execution_count": 54,
     "metadata": {},
     "output_type": "execute_result"
    }
   ],
   "source": [
    "t[0]"
   ]
  },
  {
   "cell_type": "code",
   "execution_count": 55,
   "id": "57a21d1b",
   "metadata": {},
   "outputs": [
    {
     "data": {
      "text/plain": [
       "4"
      ]
     },
     "execution_count": 55,
     "metadata": {},
     "output_type": "execute_result"
    }
   ],
   "source": [
    "t[1]"
   ]
  },
  {
   "cell_type": "code",
   "execution_count": 56,
   "id": "e74e3776",
   "metadata": {},
   "outputs": [
    {
     "ename": "TypeError",
     "evalue": "'tuple' object does not support item assignment",
     "output_type": "error",
     "traceback": [
      "\u001b[1;31m---------------------------------------------------------------------------\u001b[0m",
      "\u001b[1;31mTypeError\u001b[0m                                 Traceback (most recent call last)",
      "\u001b[1;32m<ipython-input-56-5563371099e3>\u001b[0m in \u001b[0;36m<module>\u001b[1;34m\u001b[0m\n\u001b[1;32m----> 1\u001b[1;33m \u001b[0mt\u001b[0m\u001b[1;33m[\u001b[0m\u001b[1;36m1\u001b[0m\u001b[1;33m]\u001b[0m \u001b[1;33m=\u001b[0m \u001b[1;36m40\u001b[0m\u001b[1;33m\u001b[0m\u001b[1;33m\u001b[0m\u001b[0m\n\u001b[0m",
      "\u001b[1;31mTypeError\u001b[0m: 'tuple' object does not support item assignment"
     ]
    }
   ],
   "source": [
    "t[1] = 40"
   ]
  },
  {
   "cell_type": "code",
   "execution_count": 57,
   "id": "104449b8",
   "metadata": {},
   "outputs": [
    {
     "data": {
      "text/plain": [
       "(3, 4, 6)"
      ]
     },
     "execution_count": 57,
     "metadata": {},
     "output_type": "execute_result"
    }
   ],
   "source": [
    "t"
   ]
  },
  {
   "cell_type": "code",
   "execution_count": 58,
   "id": "f888ab5a",
   "metadata": {},
   "outputs": [],
   "source": [
    "# change tuple to list\n",
    "# change value of list\n",
    "# assign list to tuple"
   ]
  },
  {
   "cell_type": "code",
   "execution_count": 59,
   "id": "346f1d8b",
   "metadata": {},
   "outputs": [],
   "source": [
    "l = list(t)"
   ]
  },
  {
   "cell_type": "code",
   "execution_count": 60,
   "id": "dc199e66",
   "metadata": {},
   "outputs": [
    {
     "data": {
      "text/plain": [
       "[3, 4, 6]"
      ]
     },
     "execution_count": 60,
     "metadata": {},
     "output_type": "execute_result"
    }
   ],
   "source": [
    "l"
   ]
  },
  {
   "cell_type": "code",
   "execution_count": 61,
   "id": "97ea9c4d",
   "metadata": {},
   "outputs": [
    {
     "data": {
      "text/plain": [
       "[3, 40, 6]"
      ]
     },
     "execution_count": 61,
     "metadata": {},
     "output_type": "execute_result"
    }
   ],
   "source": [
    "l[1] = 40\n",
    "l"
   ]
  },
  {
   "cell_type": "code",
   "execution_count": 62,
   "id": "00b57f66",
   "metadata": {},
   "outputs": [
    {
     "data": {
      "text/plain": [
       "(3, 40, 6)"
      ]
     },
     "execution_count": 62,
     "metadata": {},
     "output_type": "execute_result"
    }
   ],
   "source": [
    "t = tuple(l)\n",
    "t"
   ]
  },
  {
   "cell_type": "markdown",
   "id": "a9305d2b",
   "metadata": {},
   "source": [
    "### Add Items to tuple"
   ]
  },
  {
   "cell_type": "code",
   "execution_count": 63,
   "id": "e7ff489d",
   "metadata": {},
   "outputs": [
    {
     "data": {
      "text/plain": [
       "(12, 25, 60)"
      ]
     },
     "execution_count": 63,
     "metadata": {},
     "output_type": "execute_result"
    }
   ],
   "source": [
    "t = (12, 25, 60)\n",
    "t"
   ]
  },
  {
   "cell_type": "code",
   "execution_count": 64,
   "id": "f100c74e",
   "metadata": {},
   "outputs": [
    {
     "ename": "AttributeError",
     "evalue": "'tuple' object has no attribute 'append'",
     "output_type": "error",
     "traceback": [
      "\u001b[1;31m---------------------------------------------------------------------------\u001b[0m",
      "\u001b[1;31mAttributeError\u001b[0m                            Traceback (most recent call last)",
      "\u001b[1;32m<ipython-input-64-68152d7f5d29>\u001b[0m in \u001b[0;36m<module>\u001b[1;34m\u001b[0m\n\u001b[1;32m----> 1\u001b[1;33m \u001b[0mt\u001b[0m\u001b[1;33m.\u001b[0m\u001b[0mappend\u001b[0m\u001b[1;33m(\u001b[0m\u001b[1;36m50\u001b[0m\u001b[1;33m)\u001b[0m\u001b[1;33m\u001b[0m\u001b[1;33m\u001b[0m\u001b[0m\n\u001b[0m",
      "\u001b[1;31mAttributeError\u001b[0m: 'tuple' object has no attribute 'append'"
     ]
    }
   ],
   "source": [
    "t.append(50)"
   ]
  },
  {
   "cell_type": "code",
   "execution_count": 65,
   "id": "eb23fb30",
   "metadata": {},
   "outputs": [],
   "source": [
    "l = list(t)"
   ]
  },
  {
   "cell_type": "code",
   "execution_count": 66,
   "id": "5d2d5373",
   "metadata": {},
   "outputs": [
    {
     "data": {
      "text/plain": [
       "(12, 25, 60, 50)"
      ]
     },
     "execution_count": 66,
     "metadata": {},
     "output_type": "execute_result"
    }
   ],
   "source": [
    "l.append(50)\n",
    "t = tuple(l)\n",
    "t"
   ]
  },
  {
   "cell_type": "markdown",
   "id": "ca22f9ef",
   "metadata": {},
   "source": [
    "#### Remove Items"
   ]
  },
  {
   "cell_type": "code",
   "execution_count": 67,
   "id": "5a2d33f3",
   "metadata": {},
   "outputs": [
    {
     "ename": "TypeError",
     "evalue": "'tuple' object doesn't support item deletion",
     "output_type": "error",
     "traceback": [
      "\u001b[1;31m---------------------------------------------------------------------------\u001b[0m",
      "\u001b[1;31mTypeError\u001b[0m                                 Traceback (most recent call last)",
      "\u001b[1;32m<ipython-input-67-c40e2da12d12>\u001b[0m in \u001b[0;36m<module>\u001b[1;34m\u001b[0m\n\u001b[0;32m      1\u001b[0m \u001b[0mt\u001b[0m \u001b[1;33m=\u001b[0m \u001b[1;33m(\u001b[0m\u001b[1;36m4\u001b[0m\u001b[1;33m,\u001b[0m \u001b[1;36m6\u001b[0m\u001b[1;33m,\u001b[0m \u001b[1;36m88\u001b[0m\u001b[1;33m)\u001b[0m\u001b[1;33m\u001b[0m\u001b[1;33m\u001b[0m\u001b[0m\n\u001b[1;32m----> 2\u001b[1;33m \u001b[1;32mdel\u001b[0m \u001b[0mt\u001b[0m\u001b[1;33m[\u001b[0m\u001b[1;36m1\u001b[0m\u001b[1;33m]\u001b[0m\u001b[1;33m\u001b[0m\u001b[1;33m\u001b[0m\u001b[0m\n\u001b[0m",
      "\u001b[1;31mTypeError\u001b[0m: 'tuple' object doesn't support item deletion"
     ]
    }
   ],
   "source": [
    "t = (4, 6, 88)\n",
    "del t[1]"
   ]
  },
  {
   "cell_type": "code",
   "execution_count": 68,
   "id": "f9a28ee2",
   "metadata": {},
   "outputs": [
    {
     "data": {
      "text/plain": [
       "(4, 88)"
      ]
     },
     "execution_count": 68,
     "metadata": {},
     "output_type": "execute_result"
    }
   ],
   "source": [
    "l = list(t)\n",
    "del l[1]\n",
    "t = tuple(l)\n",
    "t"
   ]
  },
  {
   "cell_type": "markdown",
   "id": "72628751",
   "metadata": {},
   "source": [
    "#### Unpacking a Tuple"
   ]
  },
  {
   "cell_type": "code",
   "execution_count": 69,
   "id": "5c9e9995",
   "metadata": {},
   "outputs": [],
   "source": [
    "cities = (\"Okara\", \"Lahore\", \"Karachi\")\n",
    "usman, ali, aslam = cities"
   ]
  },
  {
   "cell_type": "code",
   "execution_count": 70,
   "id": "21ddf357",
   "metadata": {},
   "outputs": [
    {
     "data": {
      "text/plain": [
       "'Okara'"
      ]
     },
     "execution_count": 70,
     "metadata": {},
     "output_type": "execute_result"
    }
   ],
   "source": [
    "usman"
   ]
  },
  {
   "cell_type": "code",
   "execution_count": 71,
   "id": "82083c15",
   "metadata": {},
   "outputs": [
    {
     "data": {
      "text/plain": [
       "'Lahore'"
      ]
     },
     "execution_count": 71,
     "metadata": {},
     "output_type": "execute_result"
    }
   ],
   "source": [
    "ali"
   ]
  },
  {
   "cell_type": "code",
   "execution_count": 72,
   "id": "86122903",
   "metadata": {},
   "outputs": [
    {
     "data": {
      "text/plain": [
       "'Karachi'"
      ]
     },
     "execution_count": 72,
     "metadata": {},
     "output_type": "execute_result"
    }
   ],
   "source": [
    "aslam"
   ]
  },
  {
   "cell_type": "markdown",
   "id": "2ac5f1c3",
   "metadata": {},
   "source": [
    "### Using Asterisk*"
   ]
  },
  {
   "cell_type": "code",
   "execution_count": 74,
   "id": "7759bf39",
   "metadata": {},
   "outputs": [],
   "source": [
    "cities = (\"Okara\", \"Lahore\", \"Karachi\", \"pakpattan\", \"sahiwal\", \"depalpur\")\n",
    "usman, ali, aslam, *other = cities"
   ]
  },
  {
   "cell_type": "code",
   "execution_count": 75,
   "id": "586105ab",
   "metadata": {},
   "outputs": [
    {
     "data": {
      "text/plain": [
       "'Okara'"
      ]
     },
     "execution_count": 75,
     "metadata": {},
     "output_type": "execute_result"
    }
   ],
   "source": [
    "usman"
   ]
  },
  {
   "cell_type": "code",
   "execution_count": 76,
   "id": "774159f3",
   "metadata": {},
   "outputs": [
    {
     "data": {
      "text/plain": [
       "'Lahore'"
      ]
     },
     "execution_count": 76,
     "metadata": {},
     "output_type": "execute_result"
    }
   ],
   "source": [
    "ali"
   ]
  },
  {
   "cell_type": "code",
   "execution_count": 78,
   "id": "a62e81be",
   "metadata": {},
   "outputs": [
    {
     "data": {
      "text/plain": [
       "'Karachi'"
      ]
     },
     "execution_count": 78,
     "metadata": {},
     "output_type": "execute_result"
    }
   ],
   "source": [
    "aslam"
   ]
  },
  {
   "cell_type": "code",
   "execution_count": 79,
   "id": "41cd9dfc",
   "metadata": {},
   "outputs": [
    {
     "data": {
      "text/plain": [
       "['pakpattan', 'sahiwal', 'depalpur']"
      ]
     },
     "execution_count": 79,
     "metadata": {},
     "output_type": "execute_result"
    }
   ],
   "source": [
    "other"
   ]
  },
  {
   "cell_type": "code",
   "execution_count": 83,
   "id": "110d1510",
   "metadata": {},
   "outputs": [],
   "source": [
    "cities = (\"Okara\", \"Lahore\", \"Karachi\", \"pakpattan\", \"sahiwal\", \"depalpur\")\n",
    "usman, *oth, ali = cities"
   ]
  },
  {
   "cell_type": "code",
   "execution_count": 81,
   "id": "0fdbcb1a",
   "metadata": {},
   "outputs": [
    {
     "data": {
      "text/plain": [
       "'Okara'"
      ]
     },
     "execution_count": 81,
     "metadata": {},
     "output_type": "execute_result"
    }
   ],
   "source": [
    "usman"
   ]
  },
  {
   "cell_type": "code",
   "execution_count": 82,
   "id": "be9eb641",
   "metadata": {},
   "outputs": [
    {
     "data": {
      "text/plain": [
       "'depalpur'"
      ]
     },
     "execution_count": 82,
     "metadata": {},
     "output_type": "execute_result"
    }
   ],
   "source": [
    "ali"
   ]
  },
  {
   "cell_type": "code",
   "execution_count": 84,
   "id": "06fa9f25",
   "metadata": {},
   "outputs": [
    {
     "data": {
      "text/plain": [
       "['Lahore', 'Karachi', 'pakpattan', 'sahiwal']"
      ]
     },
     "execution_count": 84,
     "metadata": {},
     "output_type": "execute_result"
    }
   ],
   "source": [
    "oth"
   ]
  },
  {
   "cell_type": "markdown",
   "id": "d67ba8a6",
   "metadata": {},
   "source": [
    "#### Loop Through a Tuple"
   ]
  },
  {
   "cell_type": "code",
   "execution_count": 85,
   "id": "be31fc70",
   "metadata": {},
   "outputs": [
    {
     "name": "stdout",
     "output_type": "stream",
     "text": [
      "Hockey\n",
      "Cricket\n",
      "Football\n"
     ]
    }
   ],
   "source": [
    "games = (\"Hockey\", \"Cricket\", \"Football\")\n",
    "for i in games:\n",
    "    print(i)"
   ]
  },
  {
   "cell_type": "code",
   "execution_count": 86,
   "id": "ac06d41f",
   "metadata": {},
   "outputs": [
    {
     "data": {
      "text/plain": [
       "3"
      ]
     },
     "execution_count": 86,
     "metadata": {},
     "output_type": "execute_result"
    }
   ],
   "source": [
    "len(games)"
   ]
  },
  {
   "cell_type": "code",
   "execution_count": 88,
   "id": "047d70f0",
   "metadata": {},
   "outputs": [
    {
     "name": "stdout",
     "output_type": "stream",
     "text": [
      "Hockey\n",
      "Cricket\n",
      "Football\n"
     ]
    }
   ],
   "source": [
    "i = 0\n",
    "while i < len(games):\n",
    "    print(games[i])\n",
    "    i += 1"
   ]
  },
  {
   "cell_type": "markdown",
   "id": "9e889c47",
   "metadata": {},
   "source": [
    "#### Join Two Tuples"
   ]
  },
  {
   "cell_type": "code",
   "execution_count": 89,
   "id": "3cc074c3",
   "metadata": {},
   "outputs": [
    {
     "data": {
      "text/plain": [
       "('Football', 'Hockey', 'Okara', 'Karachi')"
      ]
     },
     "execution_count": 89,
     "metadata": {},
     "output_type": "execute_result"
    }
   ],
   "source": [
    "t1 = (\"Football\", \"Hockey\")\n",
    "t2 = (\"Okara\", \"Karachi\")\n",
    "t3 = t1 + t2\n",
    "t3"
   ]
  },
  {
   "cell_type": "code",
   "execution_count": 90,
   "id": "aa32ea7b",
   "metadata": {},
   "outputs": [
    {
     "data": {
      "text/plain": [
       "('Football', 'Hockey')"
      ]
     },
     "execution_count": 90,
     "metadata": {},
     "output_type": "execute_result"
    }
   ],
   "source": [
    "t1"
   ]
  },
  {
   "cell_type": "code",
   "execution_count": 91,
   "id": "29f84e23",
   "metadata": {},
   "outputs": [
    {
     "data": {
      "text/plain": [
       "('Football', 'Hockey', 'Football', 'Hockey', 'Football', 'Hockey')"
      ]
     },
     "execution_count": 91,
     "metadata": {},
     "output_type": "execute_result"
    }
   ],
   "source": [
    "t1*3"
   ]
  },
  {
   "cell_type": "markdown",
   "id": "81db8de8",
   "metadata": {},
   "source": [
    "### count"
   ]
  },
  {
   "cell_type": "code",
   "execution_count": 93,
   "id": "8c109727",
   "metadata": {},
   "outputs": [
    {
     "data": {
      "text/plain": [
       "2"
      ]
     },
     "execution_count": 93,
     "metadata": {},
     "output_type": "execute_result"
    }
   ],
   "source": [
    "t = (2,2,2,3,4,5,4,2,2)\n",
    "t.count(4)"
   ]
  },
  {
   "cell_type": "code",
   "execution_count": 95,
   "id": "147e97c2",
   "metadata": {},
   "outputs": [
    {
     "data": {
      "text/plain": [
       "1"
      ]
     },
     "execution_count": 95,
     "metadata": {},
     "output_type": "execute_result"
    }
   ],
   "source": [
    "t = (\"okara\", \"okara\", \"karachi\")\n",
    "t.count(\"karachi\")"
   ]
  },
  {
   "cell_type": "code",
   "execution_count": null,
   "id": "152656f5",
   "metadata": {},
   "outputs": [],
   "source": []
  }
 ],
 "metadata": {
  "kernelspec": {
   "display_name": "Python 3",
   "language": "python",
   "name": "python3"
  },
  "language_info": {
   "codemirror_mode": {
    "name": "ipython",
    "version": 3
   },
   "file_extension": ".py",
   "mimetype": "text/x-python",
   "name": "python",
   "nbconvert_exporter": "python",
   "pygments_lexer": "ipython3",
   "version": "3.8.10"
  }
 },
 "nbformat": 4,
 "nbformat_minor": 5
}
