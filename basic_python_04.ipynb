{
 "cells": [
  {
   "cell_type": "code",
   "execution_count": 5,
   "id": "17c6fce7",
   "metadata": {},
   "outputs": [],
   "source": [
    "lst1 = ['Okara', 'Lahore', 'Sahiwal', 'Multan', 'Karachi']\n",
    "lst2 = list(('Okara1', 'Lahore', 'Sahiwal', 'Multan', 'Karachi'))"
   ]
  },
  {
   "cell_type": "code",
   "execution_count": 6,
   "id": "b4c92e9a",
   "metadata": {},
   "outputs": [
    {
     "data": {
      "text/plain": [
       "['Okara', 'Lahore', 'Sahiwal', 'Multan', 'Karachi']"
      ]
     },
     "execution_count": 6,
     "metadata": {},
     "output_type": "execute_result"
    }
   ],
   "source": [
    "lst1"
   ]
  },
  {
   "cell_type": "code",
   "execution_count": 7,
   "id": "7eedba49",
   "metadata": {},
   "outputs": [
    {
     "data": {
      "text/plain": [
       "['Okara1', 'Lahore', 'Sahiwal', 'Multan', 'Karachi']"
      ]
     },
     "execution_count": 7,
     "metadata": {},
     "output_type": "execute_result"
    }
   ],
   "source": [
    "lst2"
   ]
  },
  {
   "cell_type": "code",
   "execution_count": 8,
   "id": "044400d8",
   "metadata": {},
   "outputs": [
    {
     "data": {
      "text/plain": [
       "5"
      ]
     },
     "execution_count": 8,
     "metadata": {},
     "output_type": "execute_result"
    }
   ],
   "source": [
    "len(lst1)"
   ]
  },
  {
   "cell_type": "code",
   "execution_count": 9,
   "id": "ab038c2f",
   "metadata": {},
   "outputs": [
    {
     "data": {
      "text/plain": [
       "list"
      ]
     },
     "execution_count": 9,
     "metadata": {},
     "output_type": "execute_result"
    }
   ],
   "source": [
    "type(lst1)"
   ]
  },
  {
   "cell_type": "code",
   "execution_count": 10,
   "id": "a20103e2",
   "metadata": {},
   "outputs": [
    {
     "data": {
      "text/plain": [
       "['Okara', 'Lahore', 'Sahiwal', 'Multan', 'Karachi']"
      ]
     },
     "execution_count": 10,
     "metadata": {},
     "output_type": "execute_result"
    }
   ],
   "source": [
    "lst1"
   ]
  },
  {
   "cell_type": "code",
   "execution_count": 11,
   "id": "c3d38ea1",
   "metadata": {},
   "outputs": [
    {
     "data": {
      "text/plain": [
       "'Okara'"
      ]
     },
     "execution_count": 11,
     "metadata": {},
     "output_type": "execute_result"
    }
   ],
   "source": [
    "lst1[0]"
   ]
  },
  {
   "cell_type": "code",
   "execution_count": 12,
   "id": "b2fe133f",
   "metadata": {},
   "outputs": [
    {
     "data": {
      "text/plain": [
       "'Lahore'"
      ]
     },
     "execution_count": 12,
     "metadata": {},
     "output_type": "execute_result"
    }
   ],
   "source": [
    "lst1[1]"
   ]
  },
  {
   "cell_type": "code",
   "execution_count": 13,
   "id": "7b504574",
   "metadata": {},
   "outputs": [
    {
     "data": {
      "text/plain": [
       "'Karachi'"
      ]
     },
     "execution_count": 13,
     "metadata": {},
     "output_type": "execute_result"
    }
   ],
   "source": [
    "lst1[-1]"
   ]
  },
  {
   "cell_type": "code",
   "execution_count": 14,
   "id": "7eb00a59",
   "metadata": {},
   "outputs": [
    {
     "data": {
      "text/plain": [
       "['Okara', 'Lahore', 'Sahiwal', 'Multan', 'Karachi']"
      ]
     },
     "execution_count": 14,
     "metadata": {},
     "output_type": "execute_result"
    }
   ],
   "source": [
    "lst1"
   ]
  },
  {
   "cell_type": "code",
   "execution_count": 15,
   "id": "361abf80",
   "metadata": {},
   "outputs": [
    {
     "data": {
      "text/plain": [
       "['Sahiwal', 'Multan']"
      ]
     },
     "execution_count": 15,
     "metadata": {},
     "output_type": "execute_result"
    }
   ],
   "source": [
    "lst1[2:4]"
   ]
  },
  {
   "cell_type": "code",
   "execution_count": 18,
   "id": "0aa4f00e",
   "metadata": {},
   "outputs": [
    {
     "data": {
      "text/plain": [
       "['Okara', 'Lahore', 'Sahiwal']"
      ]
     },
     "execution_count": 18,
     "metadata": {},
     "output_type": "execute_result"
    }
   ],
   "source": [
    "lst1[:3]"
   ]
  },
  {
   "cell_type": "code",
   "execution_count": 19,
   "id": "19a6c2c4",
   "metadata": {},
   "outputs": [
    {
     "data": {
      "text/plain": [
       "['Multan', 'Karachi']"
      ]
     },
     "execution_count": 19,
     "metadata": {},
     "output_type": "execute_result"
    }
   ],
   "source": [
    "lst1[3:]"
   ]
  },
  {
   "cell_type": "code",
   "execution_count": 20,
   "id": "74d1f88d",
   "metadata": {},
   "outputs": [
    {
     "data": {
      "text/plain": [
       "['Okara', 'Lahore', 'Sahiwal', 'Multan', 'Karachi']"
      ]
     },
     "execution_count": 20,
     "metadata": {},
     "output_type": "execute_result"
    }
   ],
   "source": [
    "lst1"
   ]
  },
  {
   "cell_type": "code",
   "execution_count": 21,
   "id": "6b191e56",
   "metadata": {},
   "outputs": [
    {
     "data": {
      "text/plain": [
       "True"
      ]
     },
     "execution_count": 21,
     "metadata": {},
     "output_type": "execute_result"
    }
   ],
   "source": [
    "\"Okara\" in lst1"
   ]
  },
  {
   "cell_type": "code",
   "execution_count": 22,
   "id": "0eaebfaa",
   "metadata": {},
   "outputs": [
    {
     "data": {
      "text/plain": [
       "False"
      ]
     },
     "execution_count": 22,
     "metadata": {},
     "output_type": "execute_result"
    }
   ],
   "source": [
    "\"Depalpur\" in lst1"
   ]
  },
  {
   "cell_type": "code",
   "execution_count": 23,
   "id": "4795d356",
   "metadata": {},
   "outputs": [
    {
     "data": {
      "text/plain": [
       "['Lahore']"
      ]
     },
     "execution_count": 23,
     "metadata": {},
     "output_type": "execute_result"
    }
   ],
   "source": [
    "lst1[1:2]"
   ]
  },
  {
   "cell_type": "code",
   "execution_count": 24,
   "id": "f46d94ed",
   "metadata": {},
   "outputs": [
    {
     "data": {
      "text/plain": [
       "['Okara', 3, 4, 6, 'Sahiwal', 'Multan', 'Karachi']"
      ]
     },
     "execution_count": 24,
     "metadata": {},
     "output_type": "execute_result"
    }
   ],
   "source": [
    "lst1[1:2] = [3,4,6]\n",
    "lst1"
   ]
  },
  {
   "cell_type": "code",
   "execution_count": 25,
   "id": "d684ceff",
   "metadata": {},
   "outputs": [
    {
     "data": {
      "text/plain": [
       "[6, 'Sahiwal']"
      ]
     },
     "execution_count": 25,
     "metadata": {},
     "output_type": "execute_result"
    }
   ],
   "source": [
    "lst1[3:5]"
   ]
  },
  {
   "cell_type": "code",
   "execution_count": 26,
   "id": "121e0869",
   "metadata": {},
   "outputs": [
    {
     "data": {
      "text/plain": [
       "['Okara', 3, 4, 'Pakpattan', 'Multan', 'Karachi']"
      ]
     },
     "execution_count": 26,
     "metadata": {},
     "output_type": "execute_result"
    }
   ],
   "source": [
    "lst1[3:5] = [\"Pakpattan\"]\n",
    "lst1"
   ]
  },
  {
   "cell_type": "code",
   "execution_count": 27,
   "id": "83f8e066",
   "metadata": {},
   "outputs": [
    {
     "data": {
      "text/plain": [
       "['Okara', 3, 4, 'Pakpattan', 'Multan', 'Karachi']"
      ]
     },
     "execution_count": 27,
     "metadata": {},
     "output_type": "execute_result"
    }
   ],
   "source": [
    "lst1"
   ]
  },
  {
   "cell_type": "code",
   "execution_count": 28,
   "id": "602c4938",
   "metadata": {},
   "outputs": [
    {
     "data": {
      "text/plain": [
       "['Okara', 'Nankana Sahib', 3, 4, 'Pakpattan', 'Multan', 'Karachi']"
      ]
     },
     "execution_count": 28,
     "metadata": {},
     "output_type": "execute_result"
    }
   ],
   "source": [
    "lst1.insert(1, \"Nankana Sahib\")\n",
    "lst1"
   ]
  },
  {
   "cell_type": "code",
   "execution_count": 29,
   "id": "6aafd291",
   "metadata": {},
   "outputs": [
    {
     "data": {
      "text/plain": [
       "['Okara', 'Nankana Sahib', 3, 4, 'Pakpattan', 'Multan', 'Karachi', 'Karachi']"
      ]
     },
     "execution_count": 29,
     "metadata": {},
     "output_type": "execute_result"
    }
   ],
   "source": [
    "lst1.append(\"Karachi\")\n",
    "lst1"
   ]
  },
  {
   "cell_type": "code",
   "execution_count": 30,
   "id": "b7b1890e",
   "metadata": {},
   "outputs": [
    {
     "data": {
      "text/plain": [
       "[1, 2, 3, 5, 7, 9]"
      ]
     },
     "execution_count": 30,
     "metadata": {},
     "output_type": "execute_result"
    }
   ],
   "source": [
    "lst1 = [1,2,3]\n",
    "lst2 = [5,7,9]\n",
    "lst1.extend(lst2)\n",
    "lst1"
   ]
  },
  {
   "cell_type": "code",
   "execution_count": 35,
   "id": "954710a6",
   "metadata": {},
   "outputs": [
    {
     "data": {
      "text/plain": [
       "['Okara', 'Nankana Sahib', 3, 4, 'Pakpattan', 'Multan', 'Karachi', 'Karachi']"
      ]
     },
     "execution_count": 35,
     "metadata": {},
     "output_type": "execute_result"
    }
   ],
   "source": [
    "lst = ['Okara', 'Nankana Sahib', 3, 4, 'Pakpattan', 'Multan', 'Karachi', 'Karachi']\n",
    "lst"
   ]
  },
  {
   "cell_type": "code",
   "execution_count": 36,
   "id": "18c62e2f",
   "metadata": {},
   "outputs": [
    {
     "data": {
      "text/plain": [
       "['Okara', 'Nankana Sahib', 3, 'Pakpattan', 'Multan', 'Karachi', 'Karachi']"
      ]
     },
     "execution_count": 36,
     "metadata": {},
     "output_type": "execute_result"
    }
   ],
   "source": [
    "lst.remove(4)\n",
    "lst"
   ]
  },
  {
   "cell_type": "code",
   "execution_count": 37,
   "id": "ef70c569",
   "metadata": {},
   "outputs": [
    {
     "data": {
      "text/plain": [
       "['Okara', 'Nankana Sahib', 3, 'Pakpattan', 'Multan', 'Karachi', 'Karachi']"
      ]
     },
     "execution_count": 37,
     "metadata": {},
     "output_type": "execute_result"
    }
   ],
   "source": [
    "lst"
   ]
  },
  {
   "cell_type": "code",
   "execution_count": 38,
   "id": "30098ef5",
   "metadata": {},
   "outputs": [
    {
     "data": {
      "text/plain": [
       "'Karachi'"
      ]
     },
     "execution_count": 38,
     "metadata": {},
     "output_type": "execute_result"
    }
   ],
   "source": [
    "lst.pop()"
   ]
  },
  {
   "cell_type": "code",
   "execution_count": 40,
   "id": "a4c9529b",
   "metadata": {},
   "outputs": [
    {
     "data": {
      "text/plain": [
       "'Karachi'"
      ]
     },
     "execution_count": 40,
     "metadata": {},
     "output_type": "execute_result"
    }
   ],
   "source": [
    "lst.pop()"
   ]
  },
  {
   "cell_type": "code",
   "execution_count": 41,
   "id": "7acca079",
   "metadata": {},
   "outputs": [
    {
     "data": {
      "text/plain": [
       "['Okara', 'Nankana Sahib', 3, 'Pakpattan', 'Multan']"
      ]
     },
     "execution_count": 41,
     "metadata": {},
     "output_type": "execute_result"
    }
   ],
   "source": [
    "lst"
   ]
  },
  {
   "cell_type": "code",
   "execution_count": 42,
   "id": "cbf59b1c",
   "metadata": {},
   "outputs": [
    {
     "data": {
      "text/plain": [
       "['Nankana Sahib', 3, 'Pakpattan', 'Multan']"
      ]
     },
     "execution_count": 42,
     "metadata": {},
     "output_type": "execute_result"
    }
   ],
   "source": [
    "del lst[0]\n",
    "lst"
   ]
  },
  {
   "cell_type": "code",
   "execution_count": 43,
   "id": "b1b8a118",
   "metadata": {},
   "outputs": [],
   "source": [
    "del lst"
   ]
  },
  {
   "cell_type": "code",
   "execution_count": 44,
   "id": "693e48f6",
   "metadata": {},
   "outputs": [
    {
     "ename": "NameError",
     "evalue": "name 'lst' is not defined",
     "output_type": "error",
     "traceback": [
      "\u001b[1;31m---------------------------------------------------------------------------\u001b[0m",
      "\u001b[1;31mNameError\u001b[0m                                 Traceback (most recent call last)",
      "\u001b[1;32m<ipython-input-44-b5cada25ed2a>\u001b[0m in \u001b[0;36m<module>\u001b[1;34m\u001b[0m\n\u001b[1;32m----> 1\u001b[1;33m \u001b[0mlst\u001b[0m\u001b[1;33m\u001b[0m\u001b[1;33m\u001b[0m\u001b[0m\n\u001b[0m",
      "\u001b[1;31mNameError\u001b[0m: name 'lst' is not defined"
     ]
    }
   ],
   "source": [
    "lst"
   ]
  },
  {
   "cell_type": "code",
   "execution_count": 45,
   "id": "56fff27a",
   "metadata": {},
   "outputs": [],
   "source": [
    "lst = ['Nankana Sahib', 3, 'Pakpattan', 'Multan']"
   ]
  },
  {
   "cell_type": "code",
   "execution_count": 46,
   "id": "5a1161a8",
   "metadata": {},
   "outputs": [
    {
     "data": {
      "text/plain": [
       "['Nankana Sahib', 3, 'Pakpattan', 'Multan']"
      ]
     },
     "execution_count": 46,
     "metadata": {},
     "output_type": "execute_result"
    }
   ],
   "source": [
    "lst"
   ]
  },
  {
   "cell_type": "code",
   "execution_count": 47,
   "id": "47e2bbd3",
   "metadata": {},
   "outputs": [],
   "source": [
    "lst.clear()"
   ]
  },
  {
   "cell_type": "code",
   "execution_count": 48,
   "id": "a3b2a8bd",
   "metadata": {},
   "outputs": [
    {
     "data": {
      "text/plain": [
       "[]"
      ]
     },
     "execution_count": 48,
     "metadata": {},
     "output_type": "execute_result"
    }
   ],
   "source": [
    "lst"
   ]
  },
  {
   "cell_type": "code",
   "execution_count": 49,
   "id": "63466a15",
   "metadata": {},
   "outputs": [],
   "source": [
    "lst1 = ['Okara', 'Lahore', 'Sahiwal', 'Multan', 'Karachi']"
   ]
  },
  {
   "cell_type": "code",
   "execution_count": 50,
   "id": "35ac37f7",
   "metadata": {},
   "outputs": [
    {
     "name": "stdout",
     "output_type": "stream",
     "text": [
      "Okara\n",
      "Lahore\n",
      "Sahiwal\n",
      "Multan\n",
      "Karachi\n"
     ]
    }
   ],
   "source": [
    "for i in lst1:\n",
    "    print(i)"
   ]
  },
  {
   "cell_type": "code",
   "execution_count": 51,
   "id": "10d7f959",
   "metadata": {},
   "outputs": [
    {
     "data": {
      "text/plain": [
       "'Okara'"
      ]
     },
     "execution_count": 51,
     "metadata": {},
     "output_type": "execute_result"
    }
   ],
   "source": [
    "lst1[0]"
   ]
  },
  {
   "cell_type": "code",
   "execution_count": 52,
   "id": "001c3789",
   "metadata": {},
   "outputs": [
    {
     "data": {
      "text/plain": [
       "5"
      ]
     },
     "execution_count": 52,
     "metadata": {},
     "output_type": "execute_result"
    }
   ],
   "source": [
    "len(lst1)"
   ]
  },
  {
   "cell_type": "code",
   "execution_count": 54,
   "id": "13cd75a1",
   "metadata": {},
   "outputs": [
    {
     "data": {
      "text/plain": [
       "[0, 1, 2, 3, 4]"
      ]
     },
     "execution_count": 54,
     "metadata": {},
     "output_type": "execute_result"
    }
   ],
   "source": [
    "list(range(len(lst1)))"
   ]
  },
  {
   "cell_type": "code",
   "execution_count": 55,
   "id": "fc9b03d7",
   "metadata": {},
   "outputs": [
    {
     "data": {
      "text/plain": [
       "['Okara', 'Lahore', 'Sahiwal', 'Multan', 'Karachi']"
      ]
     },
     "execution_count": 55,
     "metadata": {},
     "output_type": "execute_result"
    }
   ],
   "source": [
    "lst1"
   ]
  },
  {
   "cell_type": "code",
   "execution_count": 56,
   "id": "8d7cbf5a",
   "metadata": {},
   "outputs": [
    {
     "name": "stdout",
     "output_type": "stream",
     "text": [
      "Okara\n",
      "Lahore\n",
      "Sahiwal\n",
      "Multan\n",
      "Karachi\n"
     ]
    }
   ],
   "source": [
    "for i in range(len(lst1)):\n",
    "    print(lst1[i])"
   ]
  },
  {
   "cell_type": "code",
   "execution_count": 58,
   "id": "62649985",
   "metadata": {},
   "outputs": [
    {
     "name": "stdout",
     "output_type": "stream",
     "text": [
      "Okara\n",
      "Lahore\n",
      "Sahiwal\n",
      "Multan\n",
      "Karachi\n"
     ]
    }
   ],
   "source": [
    "i = 0\n",
    "while i < len(lst1):\n",
    "    print(lst1[i])\n",
    "    i = i + 1"
   ]
  },
  {
   "cell_type": "code",
   "execution_count": 59,
   "id": "ec804d29",
   "metadata": {},
   "outputs": [
    {
     "data": {
      "text/plain": [
       "[5, 6, 7, 8]"
      ]
     },
     "execution_count": 59,
     "metadata": {},
     "output_type": "execute_result"
    }
   ],
   "source": [
    "[i for i in range(5, 9)]"
   ]
  },
  {
   "cell_type": "code",
   "execution_count": 60,
   "id": "e67c296e",
   "metadata": {},
   "outputs": [
    {
     "name": "stdout",
     "output_type": "stream",
     "text": [
      "5\n",
      "6\n",
      "7\n",
      "8\n"
     ]
    },
    {
     "data": {
      "text/plain": [
       "[None, None, None, None]"
      ]
     },
     "execution_count": 60,
     "metadata": {},
     "output_type": "execute_result"
    }
   ],
   "source": [
    "[print(i) for i in range(5, 9)]"
   ]
  },
  {
   "cell_type": "code",
   "execution_count": 61,
   "id": "e7c355b8",
   "metadata": {},
   "outputs": [],
   "source": [
    "lst = ['Okara', 'Lahore', 'Sahiwal', 'Multan', 'Karachi']"
   ]
  },
  {
   "cell_type": "code",
   "execution_count": 66,
   "id": "f0eed58c",
   "metadata": {},
   "outputs": [
    {
     "data": {
      "text/plain": [
       "['Sahiwal', 'Multan']"
      ]
     },
     "execution_count": 66,
     "metadata": {},
     "output_type": "execute_result"
    }
   ],
   "source": [
    "[i for i in lst if 'l' in i]"
   ]
  },
  {
   "cell_type": "code",
   "execution_count": 69,
   "id": "203f6ed9",
   "metadata": {},
   "outputs": [
    {
     "data": {
      "text/plain": [
       "['Sahiwal', 'Multan']"
      ]
     },
     "execution_count": 69,
     "metadata": {},
     "output_type": "execute_result"
    }
   ],
   "source": [
    "lst1 = []\n",
    "for i in lst:\n",
    "    if 'l' in i:\n",
    "        lst1.append(i)\n",
    "lst1"
   ]
  },
  {
   "cell_type": "code",
   "execution_count": 70,
   "id": "94defa43",
   "metadata": {},
   "outputs": [
    {
     "data": {
      "text/plain": [
       "[3, 4, 5, 6, 7, 8, 9, 10, 11, 12]"
      ]
     },
     "execution_count": 70,
     "metadata": {},
     "output_type": "execute_result"
    }
   ],
   "source": [
    "lst = list(range(3, 13))\n",
    "lst"
   ]
  },
  {
   "cell_type": "code",
   "execution_count": 71,
   "id": "1629e429",
   "metadata": {},
   "outputs": [
    {
     "data": {
      "text/plain": [
       "[0, 1, 2, 3, 4, 5, 6]"
      ]
     },
     "execution_count": 71,
     "metadata": {},
     "output_type": "execute_result"
    }
   ],
   "source": [
    "[i for i in range(10) if i < 7]"
   ]
  },
  {
   "cell_type": "code",
   "execution_count": 72,
   "id": "b36ccae6",
   "metadata": {},
   "outputs": [
    {
     "data": {
      "text/plain": [
       "[3, 2, 4, 1, 6, 8]"
      ]
     },
     "execution_count": 72,
     "metadata": {},
     "output_type": "execute_result"
    }
   ],
   "source": [
    "lst = [3,2,4,1,6,8]\n",
    "lst"
   ]
  },
  {
   "cell_type": "code",
   "execution_count": 73,
   "id": "866553c4",
   "metadata": {},
   "outputs": [
    {
     "data": {
      "text/plain": [
       "[1, 2, 3, 4, 6, 8]"
      ]
     },
     "execution_count": 73,
     "metadata": {},
     "output_type": "execute_result"
    }
   ],
   "source": [
    "lst.sort()\n",
    "lst"
   ]
  },
  {
   "cell_type": "code",
   "execution_count": 74,
   "id": "f626b89f",
   "metadata": {},
   "outputs": [
    {
     "data": {
      "text/plain": [
       "[8, 6, 4, 3, 2, 1]"
      ]
     },
     "execution_count": 74,
     "metadata": {},
     "output_type": "execute_result"
    }
   ],
   "source": [
    "lst.sort(reverse=True)\n",
    "lst"
   ]
  },
  {
   "cell_type": "code",
   "execution_count": 75,
   "id": "acc5bec1",
   "metadata": {},
   "outputs": [],
   "source": [
    "lst = [\"Abdul Ahad\", \"Hamed\", \"danish\" ]\n",
    "lst.sort()"
   ]
  },
  {
   "cell_type": "code",
   "execution_count": 76,
   "id": "aa15708b",
   "metadata": {},
   "outputs": [
    {
     "data": {
      "text/plain": [
       "['Abdul Ahad', 'Hamed', 'danish']"
      ]
     },
     "execution_count": 76,
     "metadata": {},
     "output_type": "execute_result"
    }
   ],
   "source": [
    "lst"
   ]
  },
  {
   "cell_type": "code",
   "execution_count": 77,
   "id": "be5d6ccc",
   "metadata": {},
   "outputs": [
    {
     "data": {
      "text/plain": [
       "['Abdul Ahad', 'danish', 'Hamed']"
      ]
     },
     "execution_count": 77,
     "metadata": {},
     "output_type": "execute_result"
    }
   ],
   "source": [
    "lst.sort(key = str.lower)\n",
    "lst"
   ]
  },
  {
   "cell_type": "code",
   "execution_count": 78,
   "id": "3d03a175",
   "metadata": {},
   "outputs": [
    {
     "data": {
      "text/plain": [
       "['Hamed', 'danish', 'Abdul Ahad']"
      ]
     },
     "execution_count": 78,
     "metadata": {},
     "output_type": "execute_result"
    }
   ],
   "source": [
    "lst.sort(key = str.lower, reverse=True)\n",
    "lst"
   ]
  },
  {
   "cell_type": "code",
   "execution_count": null,
   "id": "d649a885",
   "metadata": {},
   "outputs": [],
   "source": []
  }
 ],
 "metadata": {
  "kernelspec": {
   "display_name": "Python 3",
   "language": "python",
   "name": "python3"
  },
  "language_info": {
   "codemirror_mode": {
    "name": "ipython",
    "version": 3
   },
   "file_extension": ".py",
   "mimetype": "text/x-python",
   "name": "python",
   "nbconvert_exporter": "python",
   "pygments_lexer": "ipython3",
   "version": "3.8.10"
  }
 },
 "nbformat": 4,
 "nbformat_minor": 5
}
