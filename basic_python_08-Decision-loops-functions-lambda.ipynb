{
 "cells": [
  {
   "cell_type": "markdown",
   "id": "79502046",
   "metadata": {},
   "source": [
    "### Decisions"
   ]
  },
  {
   "cell_type": "code",
   "execution_count": 9,
   "id": "915e2844",
   "metadata": {},
   "outputs": [
    {
     "name": "stdout",
     "output_type": "stream",
     "text": [
      "default value of if is true\n",
      "abc\n",
      "xyz\n",
      "Hello\n"
     ]
    }
   ],
   "source": [
    "if True:\n",
    "    print(\"default value of if is true\")\n",
    "    print(\"abc\")\n",
    "    print(\"xyz\")\n",
    "\n",
    "print(\"Hello\")"
   ]
  },
  {
   "cell_type": "code",
   "execution_count": 11,
   "id": "2df5373a",
   "metadata": {},
   "outputs": [
    {
     "name": "stdout",
     "output_type": "stream",
     "text": [
      "default value of if is true\n"
     ]
    }
   ],
   "source": [
    "if True: print(\"default value of if is true\")"
   ]
  },
  {
   "cell_type": "code",
   "execution_count": 14,
   "id": "ca4aebae",
   "metadata": {},
   "outputs": [
    {
     "name": "stdout",
     "output_type": "stream",
     "text": [
      "No\n",
      "Start\n"
     ]
    }
   ],
   "source": [
    "if False:\n",
    "    print(\"yes\")\n",
    "else:\n",
    "    print(\"No\")\n",
    "\n",
    "print(\"Start\")"
   ]
  },
  {
   "cell_type": "markdown",
   "id": "a01804b1",
   "metadata": {},
   "source": [
    "### ==, >, <, <=, >="
   ]
  },
  {
   "cell_type": "code",
   "execution_count": 15,
   "id": "76e382f8",
   "metadata": {},
   "outputs": [
    {
     "data": {
      "text/plain": [
       "False"
      ]
     },
     "execution_count": 15,
     "metadata": {},
     "output_type": "execute_result"
    }
   ],
   "source": [
    "2 == 3"
   ]
  },
  {
   "cell_type": "code",
   "execution_count": 16,
   "id": "98d48735",
   "metadata": {},
   "outputs": [
    {
     "data": {
      "text/plain": [
       "True"
      ]
     },
     "execution_count": 16,
     "metadata": {},
     "output_type": "execute_result"
    }
   ],
   "source": [
    "3 == 3"
   ]
  },
  {
   "cell_type": "code",
   "execution_count": 17,
   "id": "fe04c1c4",
   "metadata": {},
   "outputs": [
    {
     "data": {
      "text/plain": [
       "True"
      ]
     },
     "execution_count": 17,
     "metadata": {},
     "output_type": "execute_result"
    }
   ],
   "source": [
    "3 > 2"
   ]
  },
  {
   "cell_type": "code",
   "execution_count": 18,
   "id": "4ad44dca",
   "metadata": {},
   "outputs": [
    {
     "data": {
      "text/plain": [
       "False"
      ]
     },
     "execution_count": 18,
     "metadata": {},
     "output_type": "execute_result"
    }
   ],
   "source": [
    "3 > 30"
   ]
  },
  {
   "cell_type": "code",
   "execution_count": 20,
   "id": "825463ec",
   "metadata": {},
   "outputs": [
    {
     "name": "stdout",
     "output_type": "stream",
     "text": [
      "yes\n",
      "Start\n"
     ]
    }
   ],
   "source": [
    "if 3 > 2:\n",
    "    print(\"yes\")\n",
    "else:\n",
    "    print(\"No\")\n",
    "\n",
    "print(\"Start\")"
   ]
  },
  {
   "cell_type": "markdown",
   "id": "ada3f3e6",
   "metadata": {},
   "source": [
    "### Short Hand If"
   ]
  },
  {
   "cell_type": "code",
   "execution_count": 22,
   "id": "b8489fc6",
   "metadata": {},
   "outputs": [
    {
     "name": "stdout",
     "output_type": "stream",
     "text": [
      "no\n"
     ]
    }
   ],
   "source": [
    "print(\"yes\") if 3 > 20 else print(\"no\")"
   ]
  },
  {
   "cell_type": "code",
   "execution_count": 24,
   "id": "ef82ac6c",
   "metadata": {},
   "outputs": [
    {
     "name": "stdout",
     "output_type": "stream",
     "text": [
      "no\n"
     ]
    }
   ],
   "source": [
    "if 3 > 20:\n",
    "    print(\"yes\")\n",
    "else:\n",
    "    print(\"no\")"
   ]
  },
  {
   "cell_type": "markdown",
   "id": "284a317e",
   "metadata": {},
   "source": [
    "### elif"
   ]
  },
  {
   "cell_type": "code",
   "execution_count": 27,
   "id": "55f16d92",
   "metadata": {},
   "outputs": [
    {
     "name": "stdout",
     "output_type": "stream",
     "text": [
      "Football is expensive\n"
     ]
    }
   ],
   "source": [
    "price = 4000\n",
    "if price > 3000:\n",
    "    print(\"Football is expensive\")\n",
    "elif price == 3000:\n",
    "    print(\"price of football is 3000\")\n",
    "else:\n",
    "    print(\"Football is cheap\")"
   ]
  },
  {
   "cell_type": "markdown",
   "id": "547838b3",
   "metadata": {},
   "source": [
    "### Loops"
   ]
  },
  {
   "cell_type": "markdown",
   "id": "71050aa3",
   "metadata": {},
   "source": [
    "- for\n",
    "- while\n",
    "- break\n",
    "- continue"
   ]
  },
  {
   "cell_type": "code",
   "execution_count": 31,
   "id": "a64b032f",
   "metadata": {},
   "outputs": [
    {
     "name": "stdout",
     "output_type": "stream",
     "text": [
      "0\n",
      "1\n",
      "2\n",
      "3\n",
      "4\n",
      "5\n",
      "6\n",
      "7\n",
      "8\n",
      "9\n"
     ]
    }
   ],
   "source": [
    "i = 0\n",
    "while i < 10:\n",
    "    print(i)\n",
    "    i = i +1"
   ]
  },
  {
   "cell_type": "code",
   "execution_count": 34,
   "id": "db36b405",
   "metadata": {},
   "outputs": [
    {
     "name": "stdout",
     "output_type": "stream",
     "text": [
      "0\n",
      "1\n",
      "2\n",
      "3\n",
      "4\n",
      "5\n"
     ]
    }
   ],
   "source": [
    "i = 0\n",
    "while i < 10:\n",
    "    print(i)\n",
    "    if i == 5: break\n",
    "    i = i +1"
   ]
  },
  {
   "cell_type": "code",
   "execution_count": 39,
   "id": "5b3265bb",
   "metadata": {},
   "outputs": [
    {
     "name": "stdout",
     "output_type": "stream",
     "text": [
      "1\n",
      "2\n",
      "3\n",
      "4\n",
      "6\n",
      "7\n",
      "8\n",
      "9\n",
      "10\n"
     ]
    }
   ],
   "source": [
    "i = 0\n",
    "while i < 10:\n",
    "    i = i + 1\n",
    "    if i == 5: continue\n",
    "    print(i)"
   ]
  },
  {
   "cell_type": "code",
   "execution_count": 40,
   "id": "fa5a2465",
   "metadata": {},
   "outputs": [
    {
     "name": "stdout",
     "output_type": "stream",
     "text": [
      "1\n",
      "2\n",
      "3\n",
      "4\n",
      "6\n",
      "7\n",
      "8\n",
      "Loop ended\n"
     ]
    }
   ],
   "source": [
    "i = 0\n",
    "while i < 8:\n",
    "    i = i + 1\n",
    "    if i == 5: continue\n",
    "    print(i)\n",
    "else:\n",
    "    print('Loop ended')"
   ]
  },
  {
   "cell_type": "markdown",
   "id": "0f0ba552",
   "metadata": {},
   "source": [
    "### For Loop"
   ]
  },
  {
   "cell_type": "code",
   "execution_count": 41,
   "id": "b0221d30",
   "metadata": {},
   "outputs": [
    {
     "name": "stdout",
     "output_type": "stream",
     "text": [
      "Okara\n",
      "Depalpur\n",
      "Pakpattan\n"
     ]
    }
   ],
   "source": [
    "cities = ['Okara', 'Depalpur', 'Pakpattan']\n",
    "for i in cities:\n",
    "    print(i)"
   ]
  },
  {
   "cell_type": "code",
   "execution_count": 43,
   "id": "5c01767a",
   "metadata": {},
   "outputs": [
    {
     "name": "stdout",
     "output_type": "stream",
     "text": [
      "p\n",
      "a\n",
      "k\n",
      "p\n",
      "a\n",
      "t\n",
      "t\n",
      "a\n",
      "n\n"
     ]
    }
   ],
   "source": [
    "for i in \"pakpattan\":\n",
    "    print(i)"
   ]
  },
  {
   "cell_type": "code",
   "execution_count": 44,
   "id": "23aa308f",
   "metadata": {},
   "outputs": [
    {
     "name": "stdout",
     "output_type": "stream",
     "text": [
      "okara\n",
      "lahore\n",
      "karachi\n",
      "multan\n"
     ]
    }
   ],
   "source": [
    "cities = [\"okara\", \"lahore\", \"karachi\", \"multan\", \"sahiwal\"]\n",
    "for x in cities:\n",
    "    print(x)\n",
    "    if x == \"multan\": break"
   ]
  },
  {
   "cell_type": "code",
   "execution_count": 47,
   "id": "b6a4a9b7",
   "metadata": {},
   "outputs": [
    {
     "name": "stdout",
     "output_type": "stream",
     "text": [
      "okara\n",
      "lahore\n",
      "karachi\n"
     ]
    }
   ],
   "source": [
    "cities = [\"okara\", \"lahore\", \"karachi\", \"multan\", \"sahiwal\"]\n",
    "for x in cities:\n",
    "    if x == \"multan\": break\n",
    "    print(x)"
   ]
  },
  {
   "cell_type": "code",
   "execution_count": 48,
   "id": "b7e41be4",
   "metadata": {},
   "outputs": [
    {
     "name": "stdout",
     "output_type": "stream",
     "text": [
      "okara\n",
      "lahore\n",
      "karachi\n",
      "sahiwal\n"
     ]
    }
   ],
   "source": [
    "cities = [\"okara\", \"lahore\", \"karachi\", \"multan\", \"sahiwal\"]\n",
    "for x in cities:\n",
    "    if x == \"multan\": continue\n",
    "    print(x)"
   ]
  },
  {
   "cell_type": "code",
   "execution_count": 49,
   "id": "3ec362fa",
   "metadata": {},
   "outputs": [
    {
     "name": "stdout",
     "output_type": "stream",
     "text": [
      "okara\n",
      "lahore\n",
      "karachi\n",
      "sahiwal\n",
      "For loop ended\n"
     ]
    }
   ],
   "source": [
    "cities = [\"okara\", \"lahore\", \"karachi\", \"multan\", \"sahiwal\"]\n",
    "for x in cities:\n",
    "    if x == \"multan\": continue\n",
    "    print(x)\n",
    "else:\n",
    "    print(\"For loop ended\")"
   ]
  },
  {
   "cell_type": "markdown",
   "id": "24ac148a",
   "metadata": {},
   "source": [
    "### Functions in Python"
   ]
  },
  {
   "cell_type": "code",
   "execution_count": 50,
   "id": "8cf672b2",
   "metadata": {},
   "outputs": [],
   "source": [
    "def f():\n",
    "    print(\"from function f\")"
   ]
  },
  {
   "cell_type": "code",
   "execution_count": 51,
   "id": "51094340",
   "metadata": {},
   "outputs": [
    {
     "name": "stdout",
     "output_type": "stream",
     "text": [
      "from function f\n"
     ]
    }
   ],
   "source": [
    "f()"
   ]
  },
  {
   "cell_type": "code",
   "execution_count": 52,
   "id": "c0be80ca",
   "metadata": {},
   "outputs": [],
   "source": [
    "def f(a, b):\n",
    "    print(a + b)\n"
   ]
  },
  {
   "cell_type": "code",
   "execution_count": 53,
   "id": "87f493c7",
   "metadata": {},
   "outputs": [
    {
     "name": "stdout",
     "output_type": "stream",
     "text": [
      "5\n"
     ]
    }
   ],
   "source": [
    "f(2, 3)"
   ]
  },
  {
   "cell_type": "code",
   "execution_count": 54,
   "id": "10255a12",
   "metadata": {},
   "outputs": [],
   "source": [
    "def f(a, b):\n",
    "    return (a + b)\n"
   ]
  },
  {
   "cell_type": "code",
   "execution_count": 55,
   "id": "b704cb1e",
   "metadata": {},
   "outputs": [
    {
     "data": {
      "text/plain": [
       "32"
      ]
     },
     "execution_count": 55,
     "metadata": {},
     "output_type": "execute_result"
    }
   ],
   "source": [
    "f(30, 2)"
   ]
  },
  {
   "cell_type": "markdown",
   "id": "6dbbcd46",
   "metadata": {},
   "source": [
    "### Arbitrary Arguments, *args"
   ]
  },
  {
   "cell_type": "code",
   "execution_count": 56,
   "id": "51aafbe9",
   "metadata": {},
   "outputs": [
    {
     "name": "stdout",
     "output_type": "stream",
     "text": [
      "<class 'tuple'>\n"
     ]
    }
   ],
   "source": [
    "def f(*n):\n",
    "    print(type(n))\n",
    "f()"
   ]
  },
  {
   "cell_type": "code",
   "execution_count": 58,
   "id": "81126d60",
   "metadata": {},
   "outputs": [
    {
     "name": "stdout",
     "output_type": "stream",
     "text": [
      "(1, 20, 3, 4)\n"
     ]
    }
   ],
   "source": [
    "def f(*n):\n",
    "    print(n)\n",
    "f(1,20,3,4)"
   ]
  },
  {
   "cell_type": "code",
   "execution_count": 59,
   "id": "9cafb303",
   "metadata": {},
   "outputs": [
    {
     "name": "stdout",
     "output_type": "stream",
     "text": [
      "28\n"
     ]
    }
   ],
   "source": [
    "def f(*n):\n",
    "    total = 0\n",
    "    for i in n:\n",
    "        total += i \n",
    "    print(total)\n",
    "f(1,20,3,4)"
   ]
  },
  {
   "cell_type": "code",
   "execution_count": 60,
   "id": "2b938a0d",
   "metadata": {},
   "outputs": [
    {
     "name": "stdout",
     "output_type": "stream",
     "text": [
      "<class 'dict'>\n"
     ]
    }
   ],
   "source": [
    "def f(**n):\n",
    "    print(type(n))\n",
    "f()"
   ]
  },
  {
   "cell_type": "code",
   "execution_count": 61,
   "id": "ff426ae4",
   "metadata": {},
   "outputs": [
    {
     "data": {
      "text/plain": [
       "16"
      ]
     },
     "execution_count": 61,
     "metadata": {},
     "output_type": "execute_result"
    }
   ],
   "source": [
    "def f(**n):\n",
    "    total = 0\n",
    "    for i in n.values():\n",
    "        total += i\n",
    "    return total\n",
    "f(n1=2,n2=3,n3=4,n4=7)"
   ]
  },
  {
   "cell_type": "markdown",
   "id": "a7311473",
   "metadata": {},
   "source": [
    "### Python Lambda\n",
    "- lambda arguments : expression"
   ]
  },
  {
   "cell_type": "code",
   "execution_count": 63,
   "id": "b01e05bf",
   "metadata": {},
   "outputs": [],
   "source": [
    "def f(a, b, c):\n",
    "    total = a + b + c\n",
    "    return total\n"
   ]
  },
  {
   "cell_type": "code",
   "execution_count": 64,
   "id": "8a0793e4",
   "metadata": {},
   "outputs": [
    {
     "data": {
      "text/plain": [
       "12"
      ]
     },
     "execution_count": 64,
     "metadata": {},
     "output_type": "execute_result"
    }
   ],
   "source": [
    "f(3,4,5)"
   ]
  },
  {
   "cell_type": "code",
   "execution_count": 69,
   "id": "c58546b3",
   "metadata": {},
   "outputs": [],
   "source": [
    "g = lambda a, b, c: a * b * c"
   ]
  },
  {
   "cell_type": "code",
   "execution_count": 71,
   "id": "fa519507",
   "metadata": {},
   "outputs": [
    {
     "data": {
      "text/plain": [
       "8"
      ]
     },
     "execution_count": 71,
     "metadata": {},
     "output_type": "execute_result"
    }
   ],
   "source": [
    "g(1,2,4)"
   ]
  },
  {
   "cell_type": "code",
   "execution_count": null,
   "id": "35b10cde",
   "metadata": {},
   "outputs": [],
   "source": []
  }
 ],
 "metadata": {
  "kernelspec": {
   "display_name": "Python 3",
   "language": "python",
   "name": "python3"
  },
  "language_info": {
   "codemirror_mode": {
    "name": "ipython",
    "version": 3
   },
   "file_extension": ".py",
   "mimetype": "text/x-python",
   "name": "python",
   "nbconvert_exporter": "python",
   "pygments_lexer": "ipython3",
   "version": "3.8.10"
  }
 },
 "nbformat": 4,
 "nbformat_minor": 5
}
