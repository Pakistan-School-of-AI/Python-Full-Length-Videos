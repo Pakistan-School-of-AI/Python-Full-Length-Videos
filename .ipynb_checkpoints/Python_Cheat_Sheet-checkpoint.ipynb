{
 "cells": [
  {
   "cell_type": "markdown",
   "id": "4ccbd974",
   "metadata": {},
   "source": [
    "### input Output Statements"
   ]
  },
  {
   "cell_type": "code",
   "execution_count": 9,
   "id": "a76a006d",
   "metadata": {},
   "outputs": [
    {
     "name": "stdout",
     "output_type": "stream",
     "text": [
      "Welcome to Python full length videos\n"
     ]
    }
   ],
   "source": [
    "print(\"Welcome to Python full length videos\")"
   ]
  },
  {
   "cell_type": "code",
   "execution_count": 2,
   "id": "27707246",
   "metadata": {},
   "outputs": [
    {
     "data": {
      "text/plain": [
       "'Python is the language of AI'"
      ]
     },
     "execution_count": 2,
     "metadata": {},
     "output_type": "execute_result"
    }
   ],
   "source": [
    "'Python is the language of AI'"
   ]
  },
  {
   "cell_type": "code",
   "execution_count": 5,
   "id": "177a22eb",
   "metadata": {},
   "outputs": [
    {
     "name": "stdout",
     "output_type": "stream",
     "text": [
      "x = 8\n",
      "y = 6\n",
      "Sum of two numbers: 86\n"
     ]
    }
   ],
   "source": [
    "x = input(\"x = \")\n",
    "y = input(\"y = \")\n",
    "print(\"Sum of two numbers: \" + x + y)"
   ]
  },
  {
   "cell_type": "code",
   "execution_count": 8,
   "id": "919af839",
   "metadata": {},
   "outputs": [
    {
     "name": "stdout",
     "output_type": "stream",
     "text": [
      "x = 5\n",
      "y = 9\n",
      "Sum of two numbers: 14\n"
     ]
    }
   ],
   "source": [
    "x = int(input(\"x = \"))\n",
    "y = int(input(\"y = \"))\n",
    "print(\"Sum of two numbers: \" + str(x + y))"
   ]
  },
  {
   "cell_type": "markdown",
   "id": "ba5461d2",
   "metadata": {},
   "source": [
    "### Python General Syntex:  Indentation"
   ]
  },
  {
   "cell_type": "code",
   "execution_count": 12,
   "id": "30426506",
   "metadata": {},
   "outputs": [],
   "source": [
    "if 4 > 6:\n",
    "    print(\"True\")"
   ]
  },
  {
   "cell_type": "code",
   "execution_count": 13,
   "id": "ef9ace95",
   "metadata": {},
   "outputs": [
    {
     "ename": "IndentationError",
     "evalue": "expected an indented block (<ipython-input-13-6e93606e60f3>, line 2)",
     "output_type": "error",
     "traceback": [
      "\u001b[1;36m  File \u001b[1;32m\"<ipython-input-13-6e93606e60f3>\"\u001b[1;36m, line \u001b[1;32m2\u001b[0m\n\u001b[1;33m    print(\"True\")\u001b[0m\n\u001b[1;37m    ^\u001b[0m\n\u001b[1;31mIndentationError\u001b[0m\u001b[1;31m:\u001b[0m expected an indented block\n"
     ]
    }
   ],
   "source": [
    "if 4 > 6:\n",
    "print(\"True\")\n",
    "else:\n",
    "    print(\"False\")"
   ]
  },
  {
   "cell_type": "markdown",
   "id": "a290ae21",
   "metadata": {},
   "source": [
    "### Comments\n",
    "- single line comment\n",
    "- multiline comments"
   ]
  },
  {
   "cell_type": "code",
   "execution_count": 14,
   "id": "901f5e1b",
   "metadata": {},
   "outputs": [
    {
     "name": "stdout",
     "output_type": "stream",
     "text": [
      "5\n",
      "15\n"
     ]
    }
   ],
   "source": [
    "# add two numbers\n",
    "print(2+3)\n",
    "\n",
    "print(3*5) #multiply two numbers\n",
    "\n",
    "# print(6-2)"
   ]
  },
  {
   "cell_type": "code",
   "execution_count": 15,
   "id": "b7910f85",
   "metadata": {},
   "outputs": [
    {
     "name": "stdout",
     "output_type": "stream",
     "text": [
      "Welcome to Data Science and AI\n"
     ]
    }
   ],
   "source": [
    "# this is a comment\n",
    "# this is also a comment\n",
    "# this is third comment\n",
    "\n",
    "print(\"Welcome to Data Science and AI\")"
   ]
  },
  {
   "cell_type": "code",
   "execution_count": 16,
   "id": "bae15ba7",
   "metadata": {},
   "outputs": [
    {
     "data": {
      "text/plain": [
       "20"
      ]
     },
     "execution_count": 16,
     "metadata": {},
     "output_type": "execute_result"
    }
   ],
   "source": [
    "'''\n",
    "this is a comment\n",
    "this is also a comment\n",
    "this is third comment\n",
    "'''\n",
    "\n",
    "50-30"
   ]
  },
  {
   "cell_type": "code",
   "execution_count": 17,
   "id": "287c3e3a",
   "metadata": {},
   "outputs": [
    {
     "data": {
      "text/plain": [
       "40"
      ]
     },
     "execution_count": 17,
     "metadata": {},
     "output_type": "execute_result"
    }
   ],
   "source": [
    "\"\"\"\n",
    "this is a comment\n",
    "this is also a comment\n",
    "this is third comment\n",
    "\"\"\"\n",
    "\n",
    "100-60"
   ]
  },
  {
   "cell_type": "markdown",
   "id": "b27877b5",
   "metadata": {},
   "source": [
    "### Variable Name"
   ]
  },
  {
   "cell_type": "code",
   "execution_count": null,
   "id": "a68502b1",
   "metadata": {},
   "outputs": [],
   "source": [
    "num = 5\n",
    "_num = 10\n",
    "my_num = 15\n",
    "my num = 50\n",
    "num2 = 100\n",
    "2num = 50"
   ]
  },
  {
   "cell_type": "markdown",
   "id": "25ce773e",
   "metadata": {},
   "source": [
    "### Multi Words Variable Names"
   ]
  },
  {
   "cell_type": "code",
   "execution_count": null,
   "id": "71c7f31c",
   "metadata": {},
   "outputs": [],
   "source": [
    "# Camel Case\n",
    "# Pascal Case\n",
    "# Snake Case"
   ]
  },
  {
   "cell_type": "code",
   "execution_count": 18,
   "id": "e65140fd",
   "metadata": {},
   "outputs": [],
   "source": [
    "### Many Values to Multiple Variables\n"
   ]
  },
  {
   "cell_type": "code",
   "execution_count": 21,
   "id": "46e970cb",
   "metadata": {},
   "outputs": [],
   "source": [
    "usman, ali, ahmad, aslam = 92, 80, 95, 96"
   ]
  },
  {
   "cell_type": "code",
   "execution_count": 22,
   "id": "b6b121cc",
   "metadata": {},
   "outputs": [],
   "source": [
    "usman = ali = ahmad = aslam = 14"
   ]
  },
  {
   "cell_type": "code",
   "execution_count": 23,
   "id": "b89e0ef7",
   "metadata": {},
   "outputs": [],
   "source": [
    "cities = ['Okara', 'Karachi', 'Lahore', 'Islamabad']\n",
    "usman, ali, ahmad, aslam = cities"
   ]
  },
  {
   "cell_type": "code",
   "execution_count": 24,
   "id": "5df4645b",
   "metadata": {},
   "outputs": [],
   "source": [
    "### output variables"
   ]
  },
  {
   "cell_type": "code",
   "execution_count": 25,
   "id": "aa2a1c1d",
   "metadata": {},
   "outputs": [
    {
     "name": "stdout",
     "output_type": "stream",
     "text": [
      "this is a stringthis is an other string\n"
     ]
    }
   ],
   "source": [
    "s1 = \"this is a string\"\n",
    "s2 = \"this is an other string\"\n",
    "print(s1+s2)"
   ]
  },
  {
   "cell_type": "code",
   "execution_count": 26,
   "id": "2f17834c",
   "metadata": {},
   "outputs": [
    {
     "ename": "TypeError",
     "evalue": "unsupported operand type(s) for +: 'int' and 'str'",
     "output_type": "error",
     "traceback": [
      "\u001b[1;31m---------------------------------------------------------------------------\u001b[0m",
      "\u001b[1;31mTypeError\u001b[0m                                 Traceback (most recent call last)",
      "\u001b[1;32m<ipython-input-26-bf08e2bdb884>\u001b[0m in \u001b[0;36m<module>\u001b[1;34m\u001b[0m\n\u001b[0;32m      1\u001b[0m \u001b[0ms1\u001b[0m \u001b[1;33m=\u001b[0m \u001b[1;36m5\u001b[0m\u001b[1;33m\u001b[0m\u001b[1;33m\u001b[0m\u001b[0m\n\u001b[0;32m      2\u001b[0m \u001b[0ms2\u001b[0m \u001b[1;33m=\u001b[0m \u001b[1;34m\"Hello \"\u001b[0m\u001b[1;33m\u001b[0m\u001b[1;33m\u001b[0m\u001b[0m\n\u001b[1;32m----> 3\u001b[1;33m \u001b[0mprint\u001b[0m\u001b[1;33m(\u001b[0m\u001b[0ms1\u001b[0m\u001b[1;33m+\u001b[0m\u001b[0ms2\u001b[0m\u001b[1;33m)\u001b[0m\u001b[1;33m\u001b[0m\u001b[1;33m\u001b[0m\u001b[0m\n\u001b[0m",
      "\u001b[1;31mTypeError\u001b[0m: unsupported operand type(s) for +: 'int' and 'str'"
     ]
    }
   ],
   "source": [
    "s1 = 5\n",
    "s2 = \"Hello \"\n",
    "print(s1+s2)"
   ]
  },
  {
   "cell_type": "markdown",
   "id": "79d842a1",
   "metadata": {},
   "source": [
    "### Global variables"
   ]
  },
  {
   "cell_type": "code",
   "execution_count": 27,
   "id": "197122a2",
   "metadata": {},
   "outputs": [
    {
     "name": "stdout",
     "output_type": "stream",
     "text": [
      "The number is: 5\n"
     ]
    }
   ],
   "source": [
    "x = 5\n",
    "def f():\n",
    "    print(\"The number is: \" + str(x))\n",
    "f()"
   ]
  },
  {
   "cell_type": "code",
   "execution_count": 28,
   "id": "9f6e2697",
   "metadata": {},
   "outputs": [
    {
     "data": {
      "text/plain": [
       "5"
      ]
     },
     "execution_count": 28,
     "metadata": {},
     "output_type": "execute_result"
    }
   ],
   "source": [
    "x"
   ]
  },
  {
   "cell_type": "code",
   "execution_count": 29,
   "id": "edd37770",
   "metadata": {},
   "outputs": [
    {
     "name": "stdout",
     "output_type": "stream",
     "text": [
      "The number is: 6\n"
     ]
    }
   ],
   "source": [
    "x = 5\n",
    "def f():\n",
    "    x = 6\n",
    "    print(\"The number is: \" + str(x))\n",
    "f()"
   ]
  },
  {
   "cell_type": "code",
   "execution_count": 30,
   "id": "e09d77d9",
   "metadata": {},
   "outputs": [
    {
     "name": "stdout",
     "output_type": "stream",
     "text": [
      "The number is: 6\n"
     ]
    }
   ],
   "source": [
    "x = 5\n",
    "def f():\n",
    "    global x\n",
    "    x = 6\n",
    "    print(\"The number is: \" + str(x))\n",
    "f()"
   ]
  },
  {
   "cell_type": "markdown",
   "id": "aebe5496",
   "metadata": {},
   "source": [
    "### List"
   ]
  },
  {
   "cell_type": "code",
   "execution_count": null,
   "id": "6310b18b",
   "metadata": {},
   "outputs": [],
   "source": []
  }
 ],
 "metadata": {
  "kernelspec": {
   "display_name": "Python 3",
   "language": "python",
   "name": "python3"
  },
  "language_info": {
   "codemirror_mode": {
    "name": "ipython",
    "version": 3
   },
   "file_extension": ".py",
   "mimetype": "text/x-python",
   "name": "python",
   "nbconvert_exporter": "python",
   "pygments_lexer": "ipython3",
   "version": "3.8.10"
  }
 },
 "nbformat": 4,
 "nbformat_minor": 5
}
