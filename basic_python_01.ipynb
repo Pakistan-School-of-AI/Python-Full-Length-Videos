{
 "cells": [
  {
   "cell_type": "code",
   "execution_count": 6,
   "id": "34d9e199",
   "metadata": {},
   "outputs": [
    {
     "name": "stdout",
     "output_type": "stream",
     "text": [
      "Welcome to Python full length videos\n"
     ]
    }
   ],
   "source": [
    "print(\"\"\"Welcome to Python full length videos\"\"\")"
   ]
  },
  {
   "cell_type": "code",
   "execution_count": 8,
   "id": "f0f4b1d1",
   "metadata": {},
   "outputs": [
    {
     "data": {
      "text/plain": [
       "'Welcome to Python full length videos'"
      ]
     },
     "execution_count": 8,
     "metadata": {},
     "output_type": "execute_result"
    }
   ],
   "source": [
    "\"Welcome to Python full length videos\""
   ]
  },
  {
   "cell_type": "code",
   "execution_count": 9,
   "id": "3c59b304",
   "metadata": {},
   "outputs": [
    {
     "name": "stdout",
     "output_type": "stream",
     "text": [
      "What is your name: abdul ahad\n",
      "WWelcome abdul ahad\n"
     ]
    }
   ],
   "source": [
    "name = input(\"What is your name: \")\n",
    "print(\"WWelcome \" + name)"
   ]
  },
  {
   "cell_type": "code",
   "execution_count": 13,
   "id": "2146280c",
   "metadata": {},
   "outputs": [
    {
     "name": "stdout",
     "output_type": "stream",
     "text": [
      "x1 = 6\n",
      "x2 = 8\n",
      "14\n"
     ]
    }
   ],
   "source": [
    "x1 = int(input(\"x1 = \"))\n",
    "x2 = int(input(\"x2 = \"))\n",
    "total = x1 + x2\n",
    "print(total)"
   ]
  },
  {
   "cell_type": "code",
   "execution_count": 15,
   "id": "d3a82b2d",
   "metadata": {},
   "outputs": [
    {
     "data": {
      "text/plain": [
       "int"
      ]
     },
     "execution_count": 15,
     "metadata": {},
     "output_type": "execute_result"
    }
   ],
   "source": [
    "type(x1)"
   ]
  },
  {
   "cell_type": "code",
   "execution_count": 22,
   "id": "4e08cb92",
   "metadata": {},
   "outputs": [
    {
     "name": "stdout",
     "output_type": "stream",
     "text": [
      "False\n"
     ]
    }
   ],
   "source": [
    "if 5 > 8:\n",
    "    print(\"True\")\n",
    "else:\n",
    "    print(\"False\")"
   ]
  },
  {
   "cell_type": "code",
   "execution_count": 23,
   "id": "55230129",
   "metadata": {},
   "outputs": [
    {
     "data": {
      "text/plain": [
       "11"
      ]
     },
     "execution_count": 23,
     "metadata": {},
     "output_type": "execute_result"
    }
   ],
   "source": [
    "# we add two numbers\n",
    "5+6"
   ]
  },
  {
   "cell_type": "code",
   "execution_count": 24,
   "id": "96eded3d",
   "metadata": {},
   "outputs": [
    {
     "data": {
      "text/plain": [
       "3"
      ]
     },
     "execution_count": 24,
     "metadata": {},
     "output_type": "execute_result"
    }
   ],
   "source": [
    "5-2 # we subtract 2 from 5"
   ]
  },
  {
   "cell_type": "code",
   "execution_count": 27,
   "id": "6568812c",
   "metadata": {},
   "outputs": [
    {
     "name": "stdout",
     "output_type": "stream",
     "text": [
      "8\n"
     ]
    }
   ],
   "source": [
    "print(2*4)\n",
    "# print(4/2)"
   ]
  },
  {
   "cell_type": "code",
   "execution_count": 28,
   "id": "97a2a55c",
   "metadata": {},
   "outputs": [
    {
     "data": {
      "text/plain": [
       "4"
      ]
     },
     "execution_count": 28,
     "metadata": {},
     "output_type": "execute_result"
    }
   ],
   "source": [
    "# this is a comment\n",
    "# this is another comment\n",
    "# this is also a comment\n",
    "5-1"
   ]
  },
  {
   "cell_type": "code",
   "execution_count": 29,
   "id": "9e1cee06",
   "metadata": {},
   "outputs": [
    {
     "data": {
      "text/plain": [
       "24"
      ]
     },
     "execution_count": 29,
     "metadata": {},
     "output_type": "execute_result"
    }
   ],
   "source": [
    "\"\"\"\n",
    "this is a comment\n",
    "this is another comment\n",
    "this is also a comment\n",
    "\"\"\"\n",
    "6*4"
   ]
  },
  {
   "cell_type": "code",
   "execution_count": 30,
   "id": "496f5e1a",
   "metadata": {},
   "outputs": [
    {
     "data": {
      "text/plain": [
       "24"
      ]
     },
     "execution_count": 30,
     "metadata": {},
     "output_type": "execute_result"
    }
   ],
   "source": [
    "\n",
    "'''\n",
    "this is a comment\n",
    "this is another comment\n",
    "this is also a comment\n",
    "'''\n",
    "\n",
    "6*4"
   ]
  },
  {
   "cell_type": "code",
   "execution_count": 31,
   "id": "0eea0018",
   "metadata": {},
   "outputs": [],
   "source": [
    "name = \"abdul ahad\""
   ]
  },
  {
   "cell_type": "code",
   "execution_count": 32,
   "id": "1f4ab9d9",
   "metadata": {},
   "outputs": [
    {
     "data": {
      "text/plain": [
       "'abdul ahad'"
      ]
     },
     "execution_count": 32,
     "metadata": {},
     "output_type": "execute_result"
    }
   ],
   "source": [
    "name"
   ]
  },
  {
   "cell_type": "code",
   "execution_count": 33,
   "id": "ffaac733",
   "metadata": {},
   "outputs": [
    {
     "name": "stdout",
     "output_type": "stream",
     "text": [
      "abdul ahad\n"
     ]
    }
   ],
   "source": [
    "print(name)"
   ]
  },
  {
   "cell_type": "code",
   "execution_count": 34,
   "id": "059163b8",
   "metadata": {},
   "outputs": [
    {
     "data": {
      "text/plain": [
       "str"
      ]
     },
     "execution_count": 34,
     "metadata": {},
     "output_type": "execute_result"
    }
   ],
   "source": [
    "type(name)"
   ]
  },
  {
   "cell_type": "code",
   "execution_count": 35,
   "id": "ae8a0191",
   "metadata": {},
   "outputs": [],
   "source": [
    "age = 13"
   ]
  },
  {
   "cell_type": "code",
   "execution_count": 36,
   "id": "3cd59105",
   "metadata": {},
   "outputs": [
    {
     "name": "stdout",
     "output_type": "stream",
     "text": [
      "13\n"
     ]
    }
   ],
   "source": [
    "print(age)"
   ]
  },
  {
   "cell_type": "code",
   "execution_count": 37,
   "id": "e1267b54",
   "metadata": {},
   "outputs": [
    {
     "data": {
      "text/plain": [
       "int"
      ]
     },
     "execution_count": 37,
     "metadata": {},
     "output_type": "execute_result"
    }
   ],
   "source": [
    "type(age)"
   ]
  },
  {
   "cell_type": "code",
   "execution_count": 38,
   "id": "227e9645",
   "metadata": {},
   "outputs": [
    {
     "name": "stdout",
     "output_type": "stream",
     "text": [
      "2.1\n"
     ]
    }
   ],
   "source": [
    "height = 2.1\n",
    "print(height)"
   ]
  },
  {
   "cell_type": "code",
   "execution_count": 39,
   "id": "58406e50",
   "metadata": {},
   "outputs": [
    {
     "data": {
      "text/plain": [
       "float"
      ]
     },
     "execution_count": 39,
     "metadata": {},
     "output_type": "execute_result"
    }
   ],
   "source": [
    "type(height)"
   ]
  },
  {
   "cell_type": "code",
   "execution_count": 45,
   "id": "9a5c5b62",
   "metadata": {},
   "outputs": [],
   "source": [
    "_num1234 = 5"
   ]
  },
  {
   "cell_type": "code",
   "execution_count": 46,
   "id": "7a50a8d0",
   "metadata": {},
   "outputs": [],
   "source": [
    "myFirstVariable = 9"
   ]
  },
  {
   "cell_type": "code",
   "execution_count": 47,
   "id": "8688002e",
   "metadata": {},
   "outputs": [],
   "source": [
    "MyFirstVariable = 9"
   ]
  },
  {
   "cell_type": "code",
   "execution_count": 48,
   "id": "84b5f75c",
   "metadata": {},
   "outputs": [],
   "source": [
    "my_first_variable = 15"
   ]
  },
  {
   "cell_type": "code",
   "execution_count": 49,
   "id": "7c1bef80",
   "metadata": {},
   "outputs": [],
   "source": [
    "usman = 92\n",
    "ali = 80\n",
    "ahmad = 95\n",
    "aslam = 96"
   ]
  },
  {
   "cell_type": "code",
   "execution_count": 50,
   "id": "d6e41370",
   "metadata": {},
   "outputs": [],
   "source": [
    "usman, ali, ahmad, aslam = 92, 80, 95, 96"
   ]
  },
  {
   "cell_type": "code",
   "execution_count": 51,
   "id": "01755553",
   "metadata": {},
   "outputs": [
    {
     "data": {
      "text/plain": [
       "92"
      ]
     },
     "execution_count": 51,
     "metadata": {},
     "output_type": "execute_result"
    }
   ],
   "source": [
    "usman"
   ]
  },
  {
   "cell_type": "code",
   "execution_count": 52,
   "id": "3e2321c8",
   "metadata": {},
   "outputs": [
    {
     "data": {
      "text/plain": [
       "95"
      ]
     },
     "execution_count": 52,
     "metadata": {},
     "output_type": "execute_result"
    }
   ],
   "source": [
    "ahmad"
   ]
  },
  {
   "cell_type": "code",
   "execution_count": 53,
   "id": "cf84ad43",
   "metadata": {},
   "outputs": [],
   "source": [
    "usman = ali = ahmad = aslam = 14"
   ]
  },
  {
   "cell_type": "code",
   "execution_count": 54,
   "id": "d7e4a12c",
   "metadata": {},
   "outputs": [
    {
     "data": {
      "text/plain": [
       "14"
      ]
     },
     "execution_count": 54,
     "metadata": {},
     "output_type": "execute_result"
    }
   ],
   "source": [
    "usman"
   ]
  },
  {
   "cell_type": "code",
   "execution_count": 55,
   "id": "05701c44",
   "metadata": {},
   "outputs": [
    {
     "data": {
      "text/plain": [
       "14"
      ]
     },
     "execution_count": 55,
     "metadata": {},
     "output_type": "execute_result"
    }
   ],
   "source": [
    "ali"
   ]
  },
  {
   "cell_type": "code",
   "execution_count": 56,
   "id": "f64dbf58",
   "metadata": {},
   "outputs": [],
   "source": [
    "cities = ['Okara', 'Karachi', 'Lahore', 'Islamabad']\n",
    "usman, ali, ahmad, aslam = cities"
   ]
  },
  {
   "cell_type": "code",
   "execution_count": 57,
   "id": "99a6293d",
   "metadata": {},
   "outputs": [
    {
     "data": {
      "text/plain": [
       "'Okara'"
      ]
     },
     "execution_count": 57,
     "metadata": {},
     "output_type": "execute_result"
    }
   ],
   "source": [
    "usman"
   ]
  },
  {
   "cell_type": "code",
   "execution_count": 58,
   "id": "d8f0f72a",
   "metadata": {},
   "outputs": [
    {
     "data": {
      "text/plain": [
       "'Islamabad'"
      ]
     },
     "execution_count": 58,
     "metadata": {},
     "output_type": "execute_result"
    }
   ],
   "source": [
    "aslam"
   ]
  },
  {
   "cell_type": "code",
   "execution_count": null,
   "id": "c9a8d550",
   "metadata": {},
   "outputs": [],
   "source": []
  },
  {
   "cell_type": "code",
   "execution_count": null,
   "id": "b09f1297",
   "metadata": {},
   "outputs": [],
   "source": []
  },
  {
   "cell_type": "code",
   "execution_count": 64,
   "id": "48e3759d",
   "metadata": {},
   "outputs": [
    {
     "name": "stdout",
     "output_type": "stream",
     "text": [
      "this is a string 6\n"
     ]
    }
   ],
   "source": [
    "s1 = \"this is a string \"\n",
    "s2 = 6\n",
    "print(s1+str(s2))"
   ]
  },
  {
   "cell_type": "code",
   "execution_count": null,
   "id": "08f798e9",
   "metadata": {},
   "outputs": [],
   "source": []
  },
  {
   "cell_type": "code",
   "execution_count": null,
   "id": "00d1c54f",
   "metadata": {},
   "outputs": [],
   "source": []
  },
  {
   "cell_type": "code",
   "execution_count": null,
   "id": "a218525e",
   "metadata": {},
   "outputs": [],
   "source": []
  },
  {
   "cell_type": "code",
   "execution_count": 71,
   "id": "e905d79e",
   "metadata": {},
   "outputs": [
    {
     "name": "stdout",
     "output_type": "stream",
     "text": [
      "12\n"
     ]
    }
   ],
   "source": [
    "num = 6\n",
    "def f():\n",
    "    global num\n",
    "    num = 12\n",
    "    print(num)\n",
    "f()"
   ]
  },
  {
   "cell_type": "code",
   "execution_count": 72,
   "id": "a961c7c4",
   "metadata": {},
   "outputs": [
    {
     "data": {
      "text/plain": [
       "12"
      ]
     },
     "execution_count": 72,
     "metadata": {},
     "output_type": "execute_result"
    }
   ],
   "source": [
    "num"
   ]
  },
  {
   "cell_type": "code",
   "execution_count": null,
   "id": "bba79407",
   "metadata": {},
   "outputs": [],
   "source": []
  }
 ],
 "metadata": {
  "kernelspec": {
   "display_name": "Python 3",
   "language": "python",
   "name": "python3"
  },
  "language_info": {
   "codemirror_mode": {
    "name": "ipython",
    "version": 3
   },
   "file_extension": ".py",
   "mimetype": "text/x-python",
   "name": "python",
   "nbconvert_exporter": "python",
   "pygments_lexer": "ipython3",
   "version": "3.8.10"
  }
 },
 "nbformat": 4,
 "nbformat_minor": 5
}
